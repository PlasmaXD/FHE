{
 "cells": [
  {
   "cell_type": "code",
   "execution_count": 9,
   "metadata": {},
   "outputs": [],
   "source": [
    "!python -m venv myenv\n",
    "\n",
    "!source myenv/bin/activate"
   ]
  },
  {
   "cell_type": "code",
   "execution_count": 13,
   "metadata": {},
   "outputs": [
    {
     "name": "stdout",
     "output_type": "stream",
     "text": [
      "\u001b[33mDEPRECATION: Loading egg at /home/jun/.pyenv/versions/3.11.8/lib/python3.11/site-packages/seal-4.0.0-py3.11-linux-x86_64.egg is deprecated. pip 24.3 will enforce this behaviour change. A possible replacement is to use pip for package installation.. Discussion can be found at https://github.com/pypa/pip/issues/12330\u001b[0m\u001b[33m\n",
      "\u001b[0mRequirement already satisfied: seal in /home/jun/.pyenv/versions/3.11.8/lib/python3.11/site-packages/seal-4.0.0-py3.11-linux-x86_64.egg (4.0.0)\n",
      "\u001b[33mDEPRECATION: Loading egg at /home/jun/.pyenv/versions/3.11.8/lib/python3.11/site-packages/seal-4.0.0-py3.11-linux-x86_64.egg is deprecated. pip 24.3 will enforce this behaviour change. A possible replacement is to use pip for package installation.. Discussion can be found at https://github.com/pypa/pip/issues/12330\u001b[0m\u001b[33m\n",
      "\u001b[0mRequirement already satisfied: python-dp in /home/jun/.pyenv/versions/3.11.8/lib/python3.11/site-packages (1.1.4)\n"
     ]
    }
   ],
   "source": [
    "!pip install seal\n",
    "!pip install python-dp"
   ]
  },
  {
   "cell_type": "code",
   "execution_count": 3,
   "metadata": {},
   "outputs": [],
   "source": [
    "# 必要なライブラリのインポート\n",
    "import pandas as pd\n",
    "from seal import EncryptionParameters, SEALContext, KeyGenerator, Encryptor, BatchEncoder, Plaintext, Ciphertext, scheme_type, CoeffModulus, Decryptor, Evaluator, PlainModulus\n",
    "import numpy as np\n"
   ]
  },
  {
   "cell_type": "code",
   "execution_count": 4,
   "metadata": {},
   "outputs": [],
   "source": [
    "\n",
    "# データセットの読み込み\n",
    "url = \"https://archive.ics.uci.edu/ml/machine-learning-databases/adult/adult.data\"\n",
    "columns = ['age', 'workclass', 'fnlwgt', 'education', 'education-num', 'marital-status', 'occupation', 'relationship', 'race', 'sex', 'capital-gain', 'capital-loss', 'hours-per-week', 'native-country', 'income']\n",
    "data = pd.read_csv(url, names=columns, na_values=\" ?\", skipinitialspace=True)\n",
    "\n",
    "# 年齢データの抽出\n",
    "ages = data['age'].dropna().tolist()\n"
   ]
  },
  {
   "cell_type": "code",
   "execution_count": 47,
   "metadata": {},
   "outputs": [],
   "source": [
    "from seal import EncryptionParameters, SEALContext, KeyGenerator, Encryptor, Plaintext, Ciphertext, BatchEncoder, scheme_type\n",
    "\n",
    "# 暗号化パラメータの設定\n",
    "parms = EncryptionParameters(scheme_type.bfv)\n",
    "poly_modulus_degree = 8192\n",
    "parms.set_poly_modulus_degree(poly_modulus_degree)\n",
    "parms.set_coeff_modulus(CoeffModulus.BFVDefault(poly_modulus_degree))\n",
    "parms.set_plain_modulus(1032193)  # ここを適切な値に変更\n",
    "\n",
    "context = SEALContext(parms)\n",
    "keygen = KeyGenerator(context)\n",
    "public_key = keygen.create_public_key()\n",
    "secret_key = keygen.secret_key()\n",
    "\n",
    "encoder = BatchEncoder(context)\n",
    "encryptor = Encryptor(context, public_key)\n",
    "\n",
    "# 年齢データの暗号化\n",
    "encrypted_ages = []\n",
    "for age in ages:\n",
    "    # リストをnumpy配列に変換\n",
    "    age_array = np.array([age], dtype=np.int64)\n",
    "    plain = encoder.encode(age_array)\n",
    "    encrypted = encryptor.encrypt(plain)\n",
    "    encrypted_ages.append(encrypted)\n",
    "\n"
   ]
  },
  {
   "cell_type": "code",
   "execution_count": 42,
   "metadata": {},
   "outputs": [
    {
     "ename": "TypeError",
     "evalue": "add_many(): incompatible function arguments. The following argument types are supported:\n    1. (self: seal.Evaluator, arg0: list[seal.Ciphertext]) -> seal.Ciphertext\n\nInvoked with: <seal.Evaluator object at 0x7b460f0d52f0>, [], <seal.Ciphertext object at 0x7b460f0d6b30>",
     "output_type": "error",
     "traceback": [
      "\u001b[0;31m---------------------------------------------------------------------------\u001b[0m",
      "\u001b[0;31mTypeError\u001b[0m                                 Traceback (most recent call last)",
      "Cell \u001b[0;32mIn[42], line 5\u001b[0m\n\u001b[1;32m      3\u001b[0m evaluator \u001b[38;5;241m=\u001b[39m Evaluator(context)\n\u001b[1;32m      4\u001b[0m encrypted_sum \u001b[38;5;241m=\u001b[39m Ciphertext()\n\u001b[0;32m----> 5\u001b[0m \u001b[43mevaluator\u001b[49m\u001b[38;5;241;43m.\u001b[39;49m\u001b[43madd_many\u001b[49m\u001b[43m(\u001b[49m\u001b[43mencrypted_ages\u001b[49m\u001b[43m,\u001b[49m\u001b[43m \u001b[49m\u001b[43mencrypted_sum\u001b[49m\u001b[43m)\u001b[49m\n\u001b[1;32m      7\u001b[0m \u001b[38;5;66;03m# 平均の計算（クライアント側で復号化するため、ここでは平均の計算を完了しません）\u001b[39;00m\n",
      "\u001b[0;31mTypeError\u001b[0m: add_many(): incompatible function arguments. The following argument types are supported:\n    1. (self: seal.Evaluator, arg0: list[seal.Ciphertext]) -> seal.Ciphertext\n\nInvoked with: <seal.Evaluator object at 0x7b460f0d52f0>, [], <seal.Ciphertext object at 0x7b460f0d6b30>"
     ]
    }
   ],
   "source": [
    "from seal import Evaluator, Plaintext\n",
    "\n",
    "evaluator = Evaluator(context)\n",
    "encrypted_sum = Ciphertext()\n",
    "evaluator.add_many(encrypted_ages, encrypted_sum)\n",
    "\n",
    "# 平均の計算（クライアント側で復号化するため、ここでは平均の計算を完了しません）\n"
   ]
  },
  {
   "cell_type": "code",
   "execution_count": 24,
   "metadata": {},
   "outputs": [],
   "source": [
    "decryptor = Decryptor(context, secret_key)\n",
    "plain_result = Plaintext()\n",
    "decryptor.decrypt(encrypted_sum, plain_result)\n",
    "sum_result = encoder.decode_int32(plain_result)\n",
    "average_age = sum_result / len(ages)\n",
    "\n",
    "# PyDPを使用して差分プライバシを適用\n",
    "from pydp.algorithms.laplacian import BoundedMean\n",
    "\n",
    "dp_ages = BoundedMean(1.0, 0, 120)  # epsilon=1.0, 年齢の最小値0歳、最大値120歳\n",
    "dp_ages.add_entry(average_age)\n",
    "private_average_age = dp_ages.result()\n",
    "\n",
    "print(\"Private average age:\", private_average_age)\n"
   ]
  }
 ],
 "metadata": {
  "kernelspec": {
   "display_name": "Python 3",
   "language": "python",
   "name": "python3"
  },
  "language_info": {
   "codemirror_mode": {
    "name": "ipython",
    "version": 3
   },
   "file_extension": ".py",
   "mimetype": "text/x-python",
   "name": "python",
   "nbconvert_exporter": "python",
   "pygments_lexer": "ipython3",
   "version": "3.11.8"
  }
 },
 "nbformat": 4,
 "nbformat_minor": 2
}
