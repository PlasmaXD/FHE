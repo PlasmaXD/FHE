{
 "cells": [
  {
   "cell_type": "code",
   "execution_count": 9,
   "metadata": {},
   "outputs": [],
   "source": [
    "!python -m venv myenv\n",
    "\n",
    "!source myenv/bin/activate"
   ]
  },
  {
   "cell_type": "code",
   "execution_count": 10,
   "metadata": {},
   "outputs": [
    {
     "name": "stdout",
     "output_type": "stream",
     "text": [
      "\u001b[33mDEPRECATION: Loading egg at /home/jun/.pyenv/versions/3.11.8/lib/python3.11/site-packages/seal-4.0.0-py3.11-linux-x86_64.egg is deprecated. pip 24.3 will enforce this behaviour change. A possible replacement is to use pip for package installation.. Discussion can be found at https://github.com/pypa/pip/issues/12330\u001b[0m\u001b[33m\n",
      "\u001b[0mRequirement already satisfied: seal in /home/jun/.pyenv/versions/3.11.8/lib/python3.11/site-packages/seal-4.0.0-py3.11-linux-x86_64.egg (4.0.0)\n",
      "\u001b[33mDEPRECATION: Loading egg at /home/jun/.pyenv/versions/3.11.8/lib/python3.11/site-packages/seal-4.0.0-py3.11-linux-x86_64.egg is deprecated. pip 24.3 will enforce this behaviour change. A possible replacement is to use pip for package installation.. Discussion can be found at https://github.com/pypa/pip/issues/12330\u001b[0m\u001b[33m\n",
      "\u001b[0mRequirement already satisfied: python-dp in /home/jun/.pyenv/versions/3.11.8/lib/python3.11/site-packages (1.1.4)\n"
     ]
    }
   ],
   "source": [
    "!pip install seal\n",
    "!pip install python-dp"
   ]
  },
  {
   "cell_type": "code",
   "execution_count": 11,
   "metadata": {},
   "outputs": [],
   "source": [
    "import sys\n",
    "sys.path.append('/home/jun/.pyenv/versions/3.11.8/lib/python3.11/site-packages')"
   ]
  },
  {
   "cell_type": "code",
   "execution_count": 6,
   "metadata": {},
   "outputs": [],
   "source": [
    "from seal import EncryptionParameters, SEALContext, Encryptor, Decryptor, Evaluator, \\\n",
    "                 Ciphertext, Plaintext, CKKSEncoder, scheme_type, CoeffModulus, KeyGenerator\n",
    "from pydp.algorithms.laplacian import BoundedMean"
   ]
  },
  {
   "cell_type": "code",
   "execution_count": 8,
   "metadata": {},
   "outputs": [
    {
     "ename": "AttributeError",
     "evalue": "type object 'seal.scheme_type' has no attribute 'CKKS'",
     "output_type": "error",
     "traceback": [
      "\u001b[0;31m---------------------------------------------------------------------------\u001b[0m",
      "\u001b[0;31mAttributeError\u001b[0m                            Traceback (most recent call last)",
      "Cell \u001b[0;32mIn[8], line 8\u001b[0m\n\u001b[1;32m      5\u001b[0m     context \u001b[38;5;241m=\u001b[39m SEALContext\u001b[38;5;241m.\u001b[39mCreate(params)\n\u001b[1;32m      6\u001b[0m     \u001b[38;5;28;01mreturn\u001b[39;00m context\n\u001b[0;32m----> 8\u001b[0m context \u001b[38;5;241m=\u001b[39m \u001b[43minitialize_ckks_context\u001b[49m\u001b[43m(\u001b[49m\u001b[43m)\u001b[49m\n\u001b[1;32m      9\u001b[0m keygen \u001b[38;5;241m=\u001b[39m KeyGenerator(context)\n\u001b[1;32m     10\u001b[0m public_key \u001b[38;5;241m=\u001b[39m keygen\u001b[38;5;241m.\u001b[39mpublic_key()\n",
      "Cell \u001b[0;32mIn[8], line 2\u001b[0m, in \u001b[0;36minitialize_ckks_context\u001b[0;34m(poly_modulus_degree)\u001b[0m\n\u001b[1;32m      1\u001b[0m \u001b[38;5;28;01mdef\u001b[39;00m \u001b[38;5;21minitialize_ckks_context\u001b[39m(poly_modulus_degree\u001b[38;5;241m=\u001b[39m\u001b[38;5;241m8192\u001b[39m):\n\u001b[0;32m----> 2\u001b[0m     params \u001b[38;5;241m=\u001b[39m EncryptionParameters(\u001b[43mscheme_type\u001b[49m\u001b[38;5;241;43m.\u001b[39;49m\u001b[43mCKKS\u001b[49m)\n\u001b[1;32m      3\u001b[0m     params\u001b[38;5;241m.\u001b[39mset_poly_modulus_degree(poly_modulus_degree)\n\u001b[1;32m      4\u001b[0m     params\u001b[38;5;241m.\u001b[39mset_coeff_modulus(CoeffModulus\u001b[38;5;241m.\u001b[39mCreate(poly_modulus_degree, [\u001b[38;5;241m60\u001b[39m, \u001b[38;5;241m40\u001b[39m, \u001b[38;5;241m40\u001b[39m, \u001b[38;5;241m60\u001b[39m]))\n",
      "\u001b[0;31mAttributeError\u001b[0m: type object 'seal.scheme_type' has no attribute 'CKKS'"
     ]
    }
   ],
   "source": [
    "def initialize_ckks_context(poly_modulus_degree=8192):\n",
    "    params = EncryptionParameters(scheme_type.CKKS)\n",
    "    params.set_poly_modulus_degree(poly_modulus_degree)\n",
    "    params.set_coeff_modulus(CoeffModulus.Create(poly_modulus_degree, [60, 40, 40, 60]))\n",
    "    context = SEALContext.Create(params)\n",
    "    return context\n",
    "\n",
    "context = initialize_ckks_context()\n",
    "keygen = KeyGenerator(context)\n",
    "public_key = keygen.public_key()\n",
    "secret_key = keygen.secret_key()"
   ]
  }
 ],
 "metadata": {
  "kernelspec": {
   "display_name": "Python 3",
   "language": "python",
   "name": "python3"
  },
  "language_info": {
   "codemirror_mode": {
    "name": "ipython",
    "version": 3
   },
   "file_extension": ".py",
   "mimetype": "text/x-python",
   "name": "python",
   "nbconvert_exporter": "python",
   "pygments_lexer": "ipython3",
   "version": "3.11.8"
  }
 },
 "nbformat": 4,
 "nbformat_minor": 2
}
