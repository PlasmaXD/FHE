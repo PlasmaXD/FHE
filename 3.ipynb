{
 "cells": [
  {
   "cell_type": "code",
   "execution_count": 9,
   "metadata": {},
   "outputs": [],
   "source": [
    "!python -m venv myenv\n",
    "\n",
    "!source myenv/bin/activate"
   ]
  },
  {
   "cell_type": "code",
   "execution_count": 13,
   "metadata": {},
   "outputs": [
    {
     "name": "stdout",
     "output_type": "stream",
     "text": [
      "\u001b[33mDEPRECATION: Loading egg at /home/jun/.pyenv/versions/3.11.8/lib/python3.11/site-packages/seal-4.0.0-py3.11-linux-x86_64.egg is deprecated. pip 24.3 will enforce this behaviour change. A possible replacement is to use pip for package installation.. Discussion can be found at https://github.com/pypa/pip/issues/12330\u001b[0m\u001b[33m\n",
      "\u001b[0mRequirement already satisfied: seal in /home/jun/.pyenv/versions/3.11.8/lib/python3.11/site-packages/seal-4.0.0-py3.11-linux-x86_64.egg (4.0.0)\n",
      "\u001b[33mDEPRECATION: Loading egg at /home/jun/.pyenv/versions/3.11.8/lib/python3.11/site-packages/seal-4.0.0-py3.11-linux-x86_64.egg is deprecated. pip 24.3 will enforce this behaviour change. A possible replacement is to use pip for package installation.. Discussion can be found at https://github.com/pypa/pip/issues/12330\u001b[0m\u001b[33m\n",
      "\u001b[0mRequirement already satisfied: python-dp in /home/jun/.pyenv/versions/3.11.8/lib/python3.11/site-packages (1.1.4)\n"
     ]
    }
   ],
   "source": [
    "!pip install seal\n",
    "!pip install python-dp"
   ]
  },
  {
   "cell_type": "code",
   "execution_count": 4,
   "metadata": {},
   "outputs": [],
   "source": [
    "# 必要なライブラリのインポート\n",
    "import pandas as pd\n",
    "from seal import EncryptionParameters, SEALContext, KeyGenerator, Encryptor, BatchEncoder, Plaintext, Ciphertext, scheme_type, CoeffModulus, Decryptor, Evaluator, PlainModulus\n",
    "import numpy as np\n",
    "import random\n",
    "from pydp.algorithms.laplacian import BoundedMean\n"
   ]
  },
  {
   "cell_type": "code",
   "execution_count": 5,
   "metadata": {},
   "outputs": [],
   "source": [
    "\n",
    "# データセットの読み込み\n",
    "url = \"https://archive.ics.uci.edu/ml/machine-learning-databases/adult/adult.data\"\n",
    "columns = ['age', 'workclass', 'fnlwgt', 'education', 'education-num', 'marital-status', 'occupation', 'relationship', 'race', 'sex', 'capital-gain', 'capital-loss', 'hours-per-week', 'native-country', 'income']\n",
    "data = pd.read_csv(url, names=columns, na_values=\" ?\", skipinitialspace=True)\n",
    "\n",
    "# 年齢データの抽出とサンプリング\n",
    "ages = data['age'].dropna().tolist()\n",
    "sample_size = 1000  # サンプルサイズを設定\n",
    "ages_sample = random.sample(ages, sample_size)\n"
   ]
  },
  {
   "cell_type": "code",
   "execution_count": 6,
   "metadata": {},
   "outputs": [],
   "source": [
    "from seal import EncryptionParameters, SEALContext, KeyGenerator, Encryptor, Plaintext, Ciphertext, BatchEncoder, scheme_type\n",
    "\n",
    "# 暗号化パラメータの設定\n",
    "parms = EncryptionParameters(scheme_type.bfv)\n",
    "poly_modulus_degree = 8192\n",
    "parms.set_poly_modulus_degree(poly_modulus_degree)\n",
    "parms.set_coeff_modulus(CoeffModulus.BFVDefault(poly_modulus_degree))\n",
    "parms.set_plain_modulus(1032193)  # ここを適切な値に変更\n",
    "\n",
    "context = SEALContext(parms)\n",
    "keygen = KeyGenerator(context)\n",
    "public_key = keygen.create_public_key()\n",
    "secret_key = keygen.secret_key()\n",
    "\n",
    "encoder = BatchEncoder(context)\n",
    "encryptor = Encryptor(context, public_key)\n",
    "\n",
    "# 年齢データの暗号化\n",
    "encrypted_ages = []\n",
    "for age in ages_sample:\n",
    "    # リストをnumpy配列に変換\n",
    "    age_array = np.array([age], dtype=np.int64)\n",
    "    plain = encoder.encode(age_array)\n",
    "    encrypted = encryptor.encrypt(plain)\n",
    "    encrypted_ages.append(encrypted)"
   ]
  },
  {
   "cell_type": "code",
   "execution_count": 10,
   "metadata": {},
   "outputs": [],
   "source": [
    "# クラウドサーバーでの暗号化されたデータの処理\n",
    "evaluator = Evaluator(context)\n",
    "encrypted_sum = evaluator.add_many(encrypted_ages)\n"
   ]
  },
  {
   "cell_type": "code",
   "execution_count": 17,
   "metadata": {},
   "outputs": [
    {
     "name": "stdout",
     "output_type": "stream",
     "text": [
      "Private average age: 0.0\n"
     ]
    }
   ],
   "source": [
    "# 復号と差分プライバシの適用\n",
    "decryptor = Decryptor(context, secret_key)\n",
    "plain_result = decryptor.decrypt(encrypted_sum)\n",
    "\n",
    "decoded_result = np.array(encoder.decode(plain_result), dtype=np.int64)\n",
    "sum_result = sum(decoded_result)\n",
    "average_age = sum_result / sample_size\n",
    "\n",
    "# PyDPを使用して差分プライバシを適用\n",
    "# PyDPを使用して差分プライバシを適用\n",
    "dp_mean = BoundedMean(epsilon=1.0, lower_bound=0, upper_bound=120, dtype='float')  # epsilon=1.0, 年齢の最小値0歳、最大値120歳\n",
    "dp_mean.add_entry(average_age)\n",
    "private_average_age = dp_mean.result()\n",
    "\n",
    "print(\"Private average age:\", private_average_age)"
   ]
  }
 ],
 "metadata": {
  "kernelspec": {
   "display_name": "Python 3",
   "language": "python",
   "name": "python3"
  },
  "language_info": {
   "codemirror_mode": {
    "name": "ipython",
    "version": 3
   },
   "file_extension": ".py",
   "mimetype": "text/x-python",
   "name": "python",
   "nbconvert_exporter": "python",
   "pygments_lexer": "ipython3",
   "version": "3.11.8"
  }
 },
 "nbformat": 4,
 "nbformat_minor": 2
}
