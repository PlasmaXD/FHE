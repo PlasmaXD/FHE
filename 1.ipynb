{
 "cells": [
  {
   "cell_type": "code",
   "execution_count": 9,
   "metadata": {},
   "outputs": [],
   "source": [
    "!python -m venv myenv\n",
    "\n",
    "!source myenv/bin/activate"
   ]
  },
  {
   "cell_type": "code",
   "execution_count": 10,
   "metadata": {},
   "outputs": [
    {
     "name": "stdout",
     "output_type": "stream",
     "text": [
      "\u001b[33mDEPRECATION: Loading egg at /home/jun/.pyenv/versions/3.11.8/lib/python3.11/site-packages/seal-4.0.0-py3.11-linux-x86_64.egg is deprecated. pip 24.3 will enforce this behaviour change. A possible replacement is to use pip for package installation.. Discussion can be found at https://github.com/pypa/pip/issues/12330\u001b[0m\u001b[33m\n",
      "\u001b[0mRequirement already satisfied: seal in /home/jun/.pyenv/versions/3.11.8/lib/python3.11/site-packages/seal-4.0.0-py3.11-linux-x86_64.egg (4.0.0)\n",
      "\u001b[33mDEPRECATION: Loading egg at /home/jun/.pyenv/versions/3.11.8/lib/python3.11/site-packages/seal-4.0.0-py3.11-linux-x86_64.egg is deprecated. pip 24.3 will enforce this behaviour change. A possible replacement is to use pip for package installation.. Discussion can be found at https://github.com/pypa/pip/issues/12330\u001b[0m\u001b[33m\n",
      "\u001b[0mRequirement already satisfied: python-dp in /home/jun/.pyenv/versions/3.11.8/lib/python3.11/site-packages (1.1.4)\n"
     ]
    }
   ],
   "source": [
    "!pip install seal\n",
    "!pip install python-dp"
   ]
  },
  {
   "cell_type": "code",
   "execution_count": 11,
   "metadata": {},
   "outputs": [],
   "source": [
    "import sys\n",
    "sys.path.append('/home/jun/.pyenv/versions/3.11.8/lib/python3.11/site-packages')"
   ]
  },
  {
   "cell_type": "code",
   "execution_count": 20,
   "metadata": {},
   "outputs": [],
   "source": [
    "from seal import EncryptionParameters, SEALContext, Encryptor, Plaintext, Ciphertext, BatchEncoder\n",
    "\n",
    "def encrypt_data(data, context, public_key):\n",
    "    encoder = BatchEncoder(context)\n",
    "    encryptor = Encryptor(context, public_key)\n",
    "    plaintext = Plaintext()\n",
    "    encoder.encode(data, plaintext)\n",
    "    encrypted_data = Ciphertext()\n",
    "    encryptor.encrypt(plaintext, encrypted_data)\n",
    "    return encrypted_data\n"
   ]
  },
  {
   "cell_type": "code",
   "execution_count": 23,
   "metadata": {},
   "outputs": [],
   "source": [
    "from seal import Evaluator\n",
    "\n",
    "def compute_on_encrypted_data(encrypted_data1, encrypted_data2, context):\n",
    "    evaluator = Evaluator(context)\n",
    "    encrypted_result = Ciphertext()\n",
    "    evaluator.add(encrypted_data1, encrypted_data2, encrypted_result)\n",
    "    return encrypted_result\n"
   ]
  },
  {
   "cell_type": "code",
   "execution_count": 24,
   "metadata": {},
   "outputs": [],
   "source": [
    "from seal import Decryptor, Plaintext, BatchEncoder\n",
    "from pydp.algorithms.laplacian import BoundedMean\n",
    "\n",
    "def decrypt_and_apply_dp(encrypted_data, context, secret_key, epsilon):\n",
    "    decryptor = Decryptor(context, secret_key)\n",
    "    plain_result = Plaintext()\n",
    "    decryptor.decrypt(encrypted_data, plain_result)\n",
    "    \n",
    "    # BatchEncoderを使用してデコード\n",
    "    encoder = BatchEncoder(context)\n",
    "    decoded_result = encoder.decode_int32(plain_result)\n",
    "    \n",
    "    # PyDPを用いて差分プライバシーのノイズを加える\n",
    "    # 最初の要素のみを使用する場合（もし複数のデータポイントがない場合）\n",
    "    dp_result = BoundedMean(epsilon, 0, 100)\n",
    "    dp_result.add_entry(decoded_result[0])\n",
    "    return dp_result.result()\n"
   ]
  }
 ],
 "metadata": {
  "kernelspec": {
   "display_name": "Python 3",
   "language": "python",
   "name": "python3"
  },
  "language_info": {
   "codemirror_mode": {
    "name": "ipython",
    "version": 3
   },
   "file_extension": ".py",
   "mimetype": "text/x-python",
   "name": "python",
   "nbconvert_exporter": "python",
   "pygments_lexer": "ipython3",
   "version": "3.11.8"
  }
 },
 "nbformat": 4,
 "nbformat_minor": 2
}
