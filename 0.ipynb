{
 "cells": [
  {
   "cell_type": "code",
   "execution_count": 18,
   "metadata": {},
   "outputs": [
    {
     "name": "stdout",
     "output_type": "stream",
     "text": [
      "\u001b[33mDEPRECATION: Loading egg at /home/jun/.pyenv/versions/3.11.8/lib/python3.11/site-packages/seal-4.0.0-py3.11-linux-x86_64.egg is deprecated. pip 24.3 will enforce this behaviour change. A possible replacement is to use pip for package installation.. Discussion can be found at https://github.com/pypa/pip/issues/12330\u001b[0m\u001b[33m\n",
      "\u001b[0mRequirement already satisfied: pip in /home/jun/.pyenv/versions/3.11.8/lib/python3.11/site-packages (24.0)\n",
      "Requirement already satisfied: setuptools in /home/jun/.pyenv/versions/3.11.8/lib/python3.11/site-packages (70.0.0)\n",
      "Requirement already satisfied: wheel in /home/jun/.pyenv/versions/3.11.8/lib/python3.11/site-packages (0.43.0)\n",
      "Files removed: 16\n"
     ]
    }
   ],
   "source": [
    "!pip install --upgrade pip setuptools wheel\n",
    "!pip cache purge\n"
   ]
  },
  {
   "cell_type": "code",
   "execution_count": 8,
   "metadata": {},
   "outputs": [
    {
     "name": "stdout",
     "output_type": "stream",
     "text": [
      "--2024-06-14 04:00:12--  https://files.pythonhosted.org/packages/source/s/seal/seal-0.4.0-rc2.tar.gz\n",
      "files.pythonhosted.org (files.pythonhosted.org) をDNSに問いあわせています... 2a04:4e42:15::223, 151.101.88.223\n",
      "files.pythonhosted.org (files.pythonhosted.org)|2a04:4e42:15::223|:443 に接続しています... 接続しました。\n",
      "HTTP による接続要求を送信しました、応答を待っています... 302 Found\n",
      "場所: https://files.pythonhosted.org/packages/7e/b7/9b3e77d7a04461b3b7a281d1987dca24a516888d62614454016205ada3b3/seal-0.4.0-rc2.tar.gz [続く]\n",
      "--2024-06-14 04:00:12--  https://files.pythonhosted.org/packages/7e/b7/9b3e77d7a04461b3b7a281d1987dca24a516888d62614454016205ada3b3/seal-0.4.0-rc2.tar.gz\n",
      "[files.pythonhosted.org]:443 への接続を再利用します。\n",
      "HTTP による接続要求を送信しました、応答を待っています... 200 OK\n",
      "長さ: 3850138 (3.7M) [application/octet-stream]\n",
      "‘seal-0.4.0-rc2.tar.gz.3’ に保存中\n",
      "\n",
      "seal-0.4.0-rc2.tar. 100%[===================>]   3.67M  --.-KB/s    in 0.07s   \n",
      "\n",
      "2024-06-14 04:00:12 (53.6 MB/s) - ‘seal-0.4.0-rc2.tar.gz.3’ へ保存完了 [3850138/3850138]\n",
      "\n"
     ]
    }
   ],
   "source": [
    "!wget https://files.pythonhosted.org/packages/source/s/seal/seal-0.4.0-rc2.tar.gz\n",
    "!tar -xzf seal-0.4.0-rc2.tar.gz\n",
    "# xrangeをrangeに変更\n",
    "!sed -i 's/xrange/range/g' seal-0.4.0-rc2/setup.py\n",
    "\n",
    "# printステートメントをPython 3形式に変更\n",
    "!sed -i 's/print >>sys.stderr, \"Hadoop-BAM path not specified.  Trying to build anyways.\"/print(\"Hadoop-BAM path not specified.  Trying to build anyways.\", file=sys.stderr)/g' seal-0.4.0-rc2/setup.py\n",
    "!sed -i 's/print >>sys.stderr, \"You can specify a path with:\"/print(\"You can specify a path with:\", file=sys.stderr)/g' seal-0.4.0-rc2/setup.py\n"
   ]
  },
  {
   "cell_type": "code",
   "execution_count": 22,
   "metadata": {},
   "outputs": [
    {
     "name": "stdout",
     "output_type": "stream",
     "text": [
      "\u001b[33mDEPRECATION: Loading egg at /home/jun/.pyenv/versions/3.11.8/lib/python3.11/site-packages/seal-4.0.0-py3.11-linux-x86_64.egg is deprecated. pip 24.3 will enforce this behaviour change. A possible replacement is to use pip for package installation.. Discussion can be found at https://github.com/pypa/pip/issues/12330\u001b[0m\u001b[33m\n",
      "\u001b[0mRequirement already satisfied: python-dp in /home/jun/.pyenv/versions/3.11.8/lib/python3.11/site-packages (1.1.4)\n"
     ]
    }
   ],
   "source": [
    "!pip install seal\n",
    "!pip install python-dp"
   ]
  },
  {
   "cell_type": "code",
   "execution_count": 26,
   "metadata": {},
   "outputs": [
    {
     "ename": "ModuleNotFoundError",
     "evalue": "No module named 'seal'",
     "output_type": "error",
     "traceback": [
      "\u001b[0;31m---------------------------------------------------------------------------\u001b[0m",
      "\u001b[0;31mModuleNotFoundError\u001b[0m                       Traceback (most recent call last)",
      "Cell \u001b[0;32mIn[26], line 1\u001b[0m\n\u001b[0;32m----> 1\u001b[0m \u001b[38;5;28;01mfrom\u001b[39;00m \u001b[38;5;21;01mseal\u001b[39;00m \u001b[38;5;28;01mimport\u001b[39;00m EncryptionParameters, SEALContext, Encryptor, Plaintext, Ciphertext, IntegerEncoder\n\u001b[1;32m      3\u001b[0m \u001b[38;5;28;01mdef\u001b[39;00m \u001b[38;5;21mencrypt_data\u001b[39m(data, context, public_key):\n\u001b[1;32m      4\u001b[0m     encoder \u001b[38;5;241m=\u001b[39m IntegerEncoder(context)\n",
      "\u001b[0;31mModuleNotFoundError\u001b[0m: No module named 'seal'"
     ]
    }
   ],
   "source": [
    "from seal import EncryptionParameters, SEALContext, Encryptor, Plaintext, Ciphertext, IntegerEncoder\n",
    "\n",
    "def encrypt_data(data, context, public_key):\n",
    "    encoder = IntegerEncoder(context)\n",
    "    encryptor = Encryptor(context, public_key)\n",
    "    encrypted_data = Ciphertext()\n",
    "    encoded_data = encoder.encode(data)\n",
    "    encryptor.encrypt(encoded_data, encrypted_data)\n",
    "    return encrypted_data\n"
   ]
  },
  {
   "cell_type": "code",
   "execution_count": 21,
   "metadata": {},
   "outputs": [
    {
     "ename": "ModuleNotFoundError",
     "evalue": "No module named 'seal'",
     "output_type": "error",
     "traceback": [
      "\u001b[0;31m---------------------------------------------------------------------------\u001b[0m",
      "\u001b[0;31mModuleNotFoundError\u001b[0m                       Traceback (most recent call last)",
      "Cell \u001b[0;32mIn[21], line 1\u001b[0m\n\u001b[0;32m----> 1\u001b[0m \u001b[38;5;28;01mfrom\u001b[39;00m \u001b[38;5;21;01mseal\u001b[39;00m \u001b[38;5;28;01mimport\u001b[39;00m Decryptor, Plaintext\n\u001b[1;32m      2\u001b[0m \u001b[38;5;28;01mfrom\u001b[39;00m \u001b[38;5;21;01mpydp\u001b[39;00m\u001b[38;5;21;01m.\u001b[39;00m\u001b[38;5;21;01malgorithms\u001b[39;00m\u001b[38;5;21;01m.\u001b[39;00m\u001b[38;5;21;01mlaplacian\u001b[39;00m \u001b[38;5;28;01mimport\u001b[39;00m BoundedMean\n\u001b[1;32m      4\u001b[0m \u001b[38;5;28;01mdef\u001b[39;00m \u001b[38;5;21mdecrypt_and_apply_dp\u001b[39m(encrypted_data, context, secret_key, epsilon):\n",
      "\u001b[0;31mModuleNotFoundError\u001b[0m: No module named 'seal'"
     ]
    }
   ],
   "source": [
    "from seal import Decryptor, Plaintext\n",
    "from pydp.algorithms.laplacian import BoundedMean\n",
    "\n",
    "def decrypt_and_apply_dp(encrypted_data, context, secret_key, epsilon):\n",
    "    decryptor = Decryptor(context, secret_key)\n",
    "    plain_result = Plaintext()\n",
    "    decryptor.decrypt(encrypted_data, plain_result)\n",
    "    result = IntegerEncoder(context).decode_int32(plain_result)\n",
    "    \n",
    "    # PyDPを用いて差分プライバシーのノイズを加える\n",
    "    dp_result = BoundedMean(epsilon, 0, 100)\n",
    "    dp_result.add_entry(result)\n",
    "    return dp_result.result()\n"
   ]
  },
  {
   "cell_type": "code",
   "execution_count": null,
   "metadata": {},
   "outputs": [],
   "source": [
    "from seal import Decryptor, Plaintext\n",
    "from pydp.algorithms.laplacian import BoundedMean\n",
    "\n",
    "def decrypt_and_apply_dp(encrypted_data, context, secret_key, epsilon):\n",
    "    decryptor = Decryptor(context, secret_key)\n",
    "    plain_result = Plaintext()\n",
    "    decryptor.decrypt(encrypted_data, plain_result)\n",
    "    result = IntegerEncoder(context).decode_int32(plain_result)\n",
    "    \n",
    "    # PyDPを用いて差分プライバシーのノイズを加える\n",
    "    dp_result = BoundedMean(epsilon, 0, 100)\n",
    "    dp_result.add_entry(result)\n",
    "    return dp_result.result()\n"
   ]
  }
 ],
 "metadata": {
  "kernelspec": {
   "display_name": "Python 3",
   "language": "python",
   "name": "python3"
  },
  "language_info": {
   "codemirror_mode": {
    "name": "ipython",
    "version": 3
   },
   "file_extension": ".py",
   "mimetype": "text/x-python",
   "name": "python",
   "nbconvert_exporter": "python",
   "pygments_lexer": "ipython3",
   "version": "3.11.8"
  }
 },
 "nbformat": 4,
 "nbformat_minor": 2
}
